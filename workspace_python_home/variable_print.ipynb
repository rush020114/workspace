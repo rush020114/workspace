{
 "cells": [
  {
   "cell_type": "code",
   "execution_count": 1,
   "id": "8897ca0c",
   "metadata": {},
   "outputs": [
    {
     "name": "stdout",
     "output_type": "stream",
     "text": [
      "문자는 홀따옴표에 감싼다.\n",
      "문자는 쌍따옴표도 가능하다.\n"
     ]
    }
   ],
   "source": [
    "# 파이썬은 세미클론을 붙이지 않음\n",
    "print('문자는 홀따옴표에 감싼다.')\n",
    "print(\"문자는 쌍따옴표도 가능하다.\")"
   ]
  },
  {
   "cell_type": "code",
   "execution_count": 3,
   "id": "76fb3fe8",
   "metadata": {},
   "outputs": [
    {
     "name": "stdout",
     "output_type": "stream",
     "text": [
      "15\n",
      "3.3333333333333335\n",
      "3\n",
      "1\n"
     ]
    }
   ],
   "source": [
    "# 연산 결과 출력\n",
    "print(10 + 5)\n",
    "print(10 / 3) # 실수로 리턴\n",
    "print(10 // 3) # 몫\n",
    "print(10 % 3) # 나머지\n",
    "# print(10 + \"5\") 숫자와 문자 연산 불가능"
   ]
  },
  {
   "cell_type": "code",
   "execution_count": null,
   "id": "c3a64bbb",
   "metadata": {},
   "outputs": [
    {
     "name": "stdout",
     "output_type": "stream",
     "text": [
      "hihi\n",
      "hi."
     ]
    }
   ],
   "source": [
    "# print()활용\n",
    "# end매개변수는 출력 후 실행 코드\n",
    "print('hi', end='') # 한 줄에 작성 가능\n",
    "print('hi', end='\\n') # 한 줄 개행\n",
    "print('hi', end='.') # print끝나면 .찍음"
   ]
  },
  {
   "cell_type": "code",
   "execution_count": 6,
   "id": "29f42b57",
   "metadata": {},
   "outputs": [
    {
     "name": "stdout",
     "output_type": "stream",
     "text": [
      "3\n"
     ]
    }
   ],
   "source": [
    "# 변수의 선언 및 초기화(자료형 필요 x)\n",
    "num1 = 3\n",
    "print(num1)"
   ]
  },
  {
   "cell_type": "code",
   "execution_count": null,
   "id": "3ba852cf",
   "metadata": {},
   "outputs": [
    {
     "name": "stdout",
     "output_type": "stream",
     "text": [
      "나이는 20이고 이름은 홍길동입니다.\n"
     ]
    }
   ],
   "source": [
    "# 문자열과 정수 함께 출력문\n",
    "# f는 포맷한다는 의미\n",
    "age = 20\n",
    "name = '홍길동'\n",
    "print(f'나이는 {age}이고 이름은 {name}입니다.')"
   ]
  },
  {
   "cell_type": "code",
   "execution_count": null,
   "id": "aa96f350",
   "metadata": {},
   "outputs": [
    {
     "name": "stdout",
     "output_type": "stream",
     "text": [
      "29\n",
      "dl\n"
     ]
    }
   ],
   "source": [
    "# 키보드 입력\n",
    "score =input('점수를 입력하세요.')\n",
    "print(score)\n",
    "name2 =input('이름을 입력하세요.')\n",
    "print(name2)"
   ]
  }
 ],
 "metadata": {
  "kernelspec": {
   "display_name": "Python 3",
   "language": "python",
   "name": "python3"
  },
  "language_info": {
   "codemirror_mode": {
    "name": "ipython",
    "version": 3
   },
   "file_extension": ".py",
   "mimetype": "text/x-python",
   "name": "python",
   "nbconvert_exporter": "python",
   "pygments_lexer": "ipython3",
   "version": "3.13.7"
  }
 },
 "nbformat": 4,
 "nbformat_minor": 5
}
