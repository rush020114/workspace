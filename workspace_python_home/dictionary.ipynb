{
 "cells": [
  {
   "cell_type": "code",
   "execution_count": 2,
   "id": "cd6de884",
   "metadata": {},
   "outputs": [],
   "source": [
    "# dictionary는 javascript의 객체와 같이 key, value로 이루어져 있다.\n",
    "dic1 = {}\n",
    "dic2 = {\n",
    "  'stuNum': 3\n",
    "  , 'name' : '홍'\n",
    "  , 'age' : 20\n",
    "}"
   ]
  },
  {
   "cell_type": "code",
   "execution_count": 3,
   "id": "fd3fd2b5",
   "metadata": {},
   "outputs": [
    {
     "name": "stdout",
     "output_type": "stream",
     "text": [
      "{'stuNum': 3, 'name': '홍', 'age': 20}\n",
      "홍\n"
     ]
    }
   ],
   "source": [
    "# 딕셔너리 데이터 읽기\n",
    "# javascript의 []를 이용해 읽는 방법이랑 똑같다.(대신 key를 쌍따옴표에 감쌀 것)\n",
    "print(dic2)\n",
    "print(dic2['name'])"
   ]
  },
  {
   "cell_type": "code",
   "execution_count": 5,
   "id": "7852457a",
   "metadata": {},
   "outputs": [
    {
     "name": "stdout",
     "output_type": "stream",
     "text": [
      "{'model': 's25', 'price': 10000, 'color': 'red'}\n",
      "{'model': 's20', 'price': 10000, 'color': 'red'}\n",
      "{'model': 's20', 'color': 'red'}\n"
     ]
    }
   ],
   "source": [
    "# 딕셔너리에 데이터 추가, 수정, 삭제\n",
    "phone = {\n",
    "  'model': 's25'\n",
    "  , 'price' : 10000\n",
    "}\n",
    "\n",
    "# 추가\n",
    "phone['color'] = 'red'\n",
    "print(phone)\n",
    "\n",
    "#수정\n",
    "phone['model'] = 's20'\n",
    "print(phone)\n",
    "\n",
    "# 삭제\n",
    "del phone['price']\n",
    "print(phone)"
   ]
  },
  {
   "cell_type": "code",
   "execution_count": null,
   "id": "c05a0179",
   "metadata": {},
   "outputs": [
    {
     "name": "stdout",
     "output_type": "stream",
     "text": [
      "key = model, value = samsung\n",
      "key = price, value = 10000\n",
      "key = color, value = white\n"
     ]
    }
   ],
   "source": [
    "# 딕셔너리 모든 데이터에 접근\n",
    "monitor = {\n",
    "  'model' : 'samsung'\n",
    "  , 'price' : 10000\n",
    "  , 'color' : 'white'\n",
    "}\n",
    "\n",
    "# 딕셔너리로 반복문을 돌릴 때 e로 키가 전달된다.\n",
    "# e를 이용하여 value에 접근할 수 있다.\n",
    "for e in monitor :\n",
    "  print(f'key = {e}, value = {monitor[e]}')"
   ]
  },
  {
   "cell_type": "code",
   "execution_count": 7,
   "id": "c1f8cb61",
   "metadata": {},
   "outputs": [],
   "source": [
    "myInfo = {\n",
    "  '이름' : '홍길동'\n",
    "  , '나이' : 20\n",
    "  , '취미' : ['운동', '독서', '등산']\n",
    "  , '가족' : [\n",
    "    {\n",
    "      '관계' : '아빠'\n",
    "      , '이름' : '홍아빠'\n",
    "    }\n",
    "    , {\n",
    "        '관계' : '엄마'\n",
    "        , '이름' : '홍엄마'\n",
    "      }\n",
    "  ]\n",
    "\t}"
   ]
  },
  {
   "cell_type": "code",
   "execution_count": 12,
   "id": "acfd177d",
   "metadata": {},
   "outputs": [
    {
     "name": "stdout",
     "output_type": "stream",
     "text": [
      "['운동', '독서', '등산']\n",
      "3\n",
      "등산\n",
      "홍아빠\n",
      "{'이름': '홍길동', '나이': 20, '취미': ['운동', '독서', '등산'], '가족': [{'관계': '아빠', '이름': '홍아빠'}, {'관계': '엄마', '이름': '홍엄마', '나이': 50}]}\n"
     ]
    }
   ],
   "source": [
    "# myInfo 딕셔너리에서 모든 취미 출력\n",
    "print(myInfo['취미'])\n",
    "\n",
    "# myInfo 딕셔너리에서 취미의 개수 출력\n",
    "# 힌트 : 배열의 길이 len()\n",
    "print(len(myInfo['취미']))\n",
    "\n",
    "# myInfo 딕셔너리에서 마지막 취미를 출력\n",
    "print(myInfo['취미'][-1])\n",
    "\n",
    "# myInfo 딕셔너리에서 아빠의 이름을 출력\n",
    "print(myInfo['가족'][0]['이름'])\n",
    "\n",
    "# myInfo 딕셔너리에서 엄마의 나이를 추가\n",
    "myInfo['가족'][1]['나이'] = 50\n",
    "print(myInfo)"
   ]
  }
 ],
 "metadata": {
  "kernelspec": {
   "display_name": "Python 3",
   "language": "python",
   "name": "python3"
  },
  "language_info": {
   "codemirror_mode": {
    "name": "ipython",
    "version": 3
   },
   "file_extension": ".py",
   "mimetype": "text/x-python",
   "name": "python",
   "nbconvert_exporter": "python",
   "pygments_lexer": "ipython3",
   "version": "3.13.7"
  }
 },
 "nbformat": 4,
 "nbformat_minor": 5
}
