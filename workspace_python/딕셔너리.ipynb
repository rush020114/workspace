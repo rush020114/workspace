{
 "cells": [
  {
   "cell_type": "code",
   "execution_count": null,
   "id": "5b5166b5",
   "metadata": {},
   "outputs": [],
   "source": [
    "# dictionary\n",
    "# 여러 데이터를 저장할 수 있고 key와 value의 쌍으로 데이터가 저장된다.\n",
    "# 자바스크립트의 객체로 동일!"
   ]
  },
  {
   "cell_type": "code",
   "execution_count": 1,
   "id": "4883ccca",
   "metadata": {},
   "outputs": [],
   "source": [
    "# 딕셔너리 데이터 생성\n",
    "dic1 = {} # 빈 딕셔너리 데이터 생성\n",
    "dic2 = {\n",
    "  'stuNum' : 3\n",
    "  , 'name': '홍'\n",
    "  , 'age' : 20\n",
    "}"
   ]
  },
  {
   "cell_type": "code",
   "execution_count": 5,
   "id": "ca186ffd",
   "metadata": {},
   "outputs": [
    {
     "name": "stdout",
     "output_type": "stream",
     "text": [
      "{'stuNum': 3, 'name': '홍', 'age': 20}\n",
      "홍\n"
     ]
    }
   ],
   "source": [
    "# 딕셔너리 데이터 읽기\n",
    "print(dic2)\n",
    "print(dic2['name'])"
   ]
  },
  {
   "cell_type": "code",
   "execution_count": null,
   "id": "c81045bc",
   "metadata": {},
   "outputs": [
    {
     "name": "stdout",
     "output_type": "stream",
     "text": [
      "{'price': 5000, 'color': 'black'}\n"
     ]
    }
   ],
   "source": [
    "# 딕셔너리에 데이터 추가 및 변경, 삭제\n",
    "phone = {\n",
    "  'model' : 's25'\n",
    "  , 'price' : 10000\n",
    "}\n",
    "\n",
    "# 새로운 데이터 추가. 딕셔너리에 없는 key를 사용하면 데이터 추가\n",
    "phone['color'] = 'black'\n",
    "print(phone)\n",
    "\n",
    "# 데이터 변경. 기존 존재하는 key에 데이터를 넣으면 데이터가 변경 \n",
    "phone['price'] = 5000\n",
    "print(phone)\n",
    "\n",
    "# 데이터 삭제. 기존 존재하는 key에 del 사용\n",
    "del phone['model']\n",
    "print(phone)"
   ]
  },
  {
   "cell_type": "code",
   "execution_count": null,
   "id": "37a54e22",
   "metadata": {},
   "outputs": [
    {
     "name": "stdout",
     "output_type": "stream",
     "text": [
      "key는 brand, value는 samsung\n",
      "key는 price, value는 10000\n",
      "key는 color, value는 white\n"
     ]
    }
   ],
   "source": [
    "# 딕셔너리의 모든 데이터에 접근하는 방법\n",
    "monitor = {\n",
    "  'brand' : 'samsung'\n",
    "  , 'price' : 10000\n",
    "  , 'color' : 'white'\n",
    "}\n",
    "\n",
    "# 딕셔너리 데이터는 for문을 이용하여 모든 데이터에 접근할 수 있다.\n",
    "# 딕셔너리 데이터를 for문으로 읽으면 key값만 나온다.\n",
    "for e in monitor :\n",
    "  print(f'key = {e}, value = {monitor[e]}')"
   ]
  },
  {
   "cell_type": "code",
   "execution_count": 15,
   "id": "e467701f",
   "metadata": {},
   "outputs": [],
   "source": [
    "myInfo = {\n",
    "  '이름' : '홍길동'\n",
    "  , '나이' : 20\n",
    "  , '취미' : ['운동', '독서', '등산']\n",
    "  , '가족' : [\n",
    "    {\n",
    "      '관계' : '아빠'\n",
    "      , '이름' : '홍아빠'\n",
    "    }\n",
    "    , {\n",
    "        '관계' : '엄마'\n",
    "        , '이름' : '홍엄마'\n",
    "      }\n",
    "  ]\n",
    "}"
   ]
  },
  {
   "cell_type": "code",
   "execution_count": 23,
   "id": "aec3630b",
   "metadata": {},
   "outputs": [
    {
     "name": "stdout",
     "output_type": "stream",
     "text": [
      "운동\n",
      "독서\n",
      "등산\n",
      "3\n",
      "등산\n",
      "홍아빠\n",
      "50\n",
      "{'이름': '홍길동', '나이': 20, '취미': ['운동', '독서', '등산'], '가족': [{'관계': '아빠', '이름': '홍아빠'}, {'관계': '엄마', '이름': '홍엄마', '나이': 50}]}\n"
     ]
    }
   ],
   "source": [
    "# myInfo 딕셔너리에서 모든 취미 출력\n",
    "for e in myInfo['취미'] :\n",
    "  print(e)\n",
    "\n",
    "# myInfo 딕셔너리에서 취미의 개수 출력\n",
    "# 힌트 : 배열의 길이 len()\n",
    "print(len(myInfo['취미']))\n",
    "\n",
    "# myInfo 딕셔너리에서 마지막 취미를 출력\n",
    "print(myInfo['취미'][-1])\n",
    "\n",
    "# myInfo 딕셔너리에서 아빠의 이름을 출력\n",
    "print(myInfo['가족'][0]['이름'])\n",
    "\n",
    "# myInfo 딕셔너리에서 엄마의 나이를 추가\n",
    "myInfo['가족'][1]['나이'] = 50\n",
    "\n",
    "print(myInfo['가족'][1]['나이'])\n",
    "print(myInfo)"
   ]
  }
 ],
 "metadata": {
  "kernelspec": {
   "display_name": "Python 3",
   "language": "python",
   "name": "python3"
  },
  "language_info": {
   "codemirror_mode": {
    "name": "ipython",
    "version": 3
   },
   "file_extension": ".py",
   "mimetype": "text/x-python",
   "name": "python",
   "nbconvert_exporter": "python",
   "pygments_lexer": "ipython3",
   "version": "3.13.7"
  }
 },
 "nbformat": 4,
 "nbformat_minor": 5
}
