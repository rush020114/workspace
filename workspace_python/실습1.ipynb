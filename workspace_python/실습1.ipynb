{
 "cells": [
  {
   "cell_type": "code",
   "execution_count": 4,
   "id": "1ca2863b",
   "metadata": {},
   "outputs": [
    {
     "name": "stdout",
     "output_type": "stream",
     "text": [
      "1\n"
     ]
    }
   ],
   "source": [
    "#키보드로 정수를 입력받아, 입력받은 정수가 짝수면 '1'을 출력, 홀수면 '2'를 출력\n",
    "#입력받은 수가 0이면 '0입니다'를 출력하는 코드 작성\n",
    "num1 = int(input('정수를 입력하시오.'))\n",
    "if num1 == 0 :\n",
    "  print('0입니다.')\n",
    "elif num1 % 2 == 0:\n",
    "  print(1)\n",
    "else :\n",
    "  print(2)"
   ]
  },
  {
   "cell_type": "code",
   "execution_count": 6,
   "id": "cbb5960f",
   "metadata": {},
   "outputs": [
    {
     "name": "stdout",
     "output_type": "stream",
     "text": [
      "9 * 1 = 9\n",
      "9 * 2 = 18\n",
      "9 * 3 = 27\n",
      "9 * 4 = 36\n",
      "9 * 5 = 45\n",
      "9 * 6 = 54\n",
      "9 * 7 = 63\n",
      "9 * 8 = 72\n",
      "9 * 9 = 81\n"
     ]
    }
   ],
   "source": [
    "#키보드로 입력받은 단수의 구구단 출력\n",
    "#ex> 3입력 받으면 3단 출력\n",
    "# 3 * 1 = 3\n",
    "# 3 * 2 = 6\n",
    "# ...\n",
    "# 3 * 9 = 27\n",
    "num2 = int(input('구구단의 단수 입력'))\n",
    "for e in range(1, 10) :\n",
    "  print(f'{num2} * {e} = {num2 * e}')"
   ]
  },
  {
   "cell_type": "code",
   "execution_count": null,
   "id": "53266e65",
   "metadata": {},
   "outputs": [
    {
     "name": "stdout",
     "output_type": "stream",
     "text": [
      "54\n"
     ]
    }
   ],
   "source": [
    "  #다음 두 리스트에 존재하는 모든 요소의 합을 구하시오.\n",
    "  #힌트: 파이썬은 리스트를더하면 두 리스트의 모든 요소를 갖는 하나의 리스트가 반환\n",
    "list2 = [10, 15, 20]\n",
    "list1 = [1, 3, 5]\n",
    "list3 = list1 + list2\n",
    "print(sum(list3))"
   ]
  },
  {
   "cell_type": "code",
   "execution_count": 11,
   "id": "5a6244f0",
   "metadata": {},
   "outputs": [
    {
     "name": "stdout",
     "output_type": "stream",
     "text": [
      "[2, 10, 20]\n"
     ]
    }
   ],
   "source": [
    "#키보드로 입력받은 세 정수 * 2한 값을 요소로 갖는 리스트를 생성하고 출력하세요.\n",
    "#ex> 입력 : 1,5,10 -> 결과 : [2, 10, 20]\n",
    "list4 = []\n",
    "for e in range(0, 3) :\n",
    "  list4.append(int(input(f'{e + 1}번째 정수 입력')) * 2)\n",
    "print(list4)"
   ]
  },
  {
   "cell_type": "code",
   "execution_count": null,
   "id": "b8a6c543",
   "metadata": {},
   "outputs": [
    {
     "name": "stdout",
     "output_type": "stream",
     "text": [
      "3\n"
     ]
    }
   ],
   "source": [
    "#다음의 데이터에서 't' 의 갯수를 구하시오.\n",
    "#힌트 : 파이썬은 문자열도 리스트이기에 반복문을 사용할 수 있음\n",
    "data = ['brother', 'mother', 'sister']\n",
    "cnt = 0\n",
    "for word in data :\n",
    "  for e in word :\n",
    "    if e == 't' :\n",
    "      cnt += 1\n",
    "print(cnt)"
   ]
  },
  {
   "cell_type": "code",
   "execution_count": null,
   "id": "8ee14c79",
   "metadata": {},
   "outputs": [
    {
     "name": "stdout",
     "output_type": "stream",
     "text": [
      "{'name': 'hong', 'korScore': 0, 'mathScore': 0}\n",
      "{'name': 'hong', 'korScore': 80, 'mathScore': 90, 'totalPrice': 170}\n"
     ]
    }
   ],
   "source": [
    "# 아래의 딕셔너리 데이터를 참고하여 문제 해결\n",
    "student = {\n",
    "  'name' : 'hong',\n",
    "  'korScore' : 0,\n",
    "  'mathScore' : 0,\n",
    "}\n",
    "print(student)\n",
    "#위에서 선언한 딕셔너리 데이터의 국어점수 및 수학점수 데이터를 키보드로 입력받은 데이터로 변경하시오\n",
    "student['korScore'] = int(input('국어점수'))\n",
    "student['mathScore'] = int(input('수학점수'))\n",
    "#위의 딕셔너리 데이터에 총점(totalScore) 키를 추가하고, value의 값는 국어와 수학점수의 합으로 지정하시오. \n",
    "student['totalPrice'] = student['korScore'] + student['mathScore']\n",
    "print(student)"
   ]
  },
  {
   "cell_type": "code",
   "execution_count": 36,
   "id": "9aa860ed",
   "metadata": {},
   "outputs": [
    {
     "name": "stdout",
     "output_type": "stream",
     "text": [
      "256\n"
     ]
    }
   ],
   "source": [
    "scores = {\n",
    "  'korScore' : 90,\n",
    "  'engScore' : 80,\n",
    "  'mathScore' : 86\n",
    "}\n",
    "# 매개변수로 전달되는 학생점수 딕셔너리의 모든점수의 합을 리턴하는 함수를 선언하고 호출해보세요.\n",
    "def sumScore(dic) :\n",
    "  sum3 = 0\n",
    "  for e in dic :\n",
    "    sum3 += dic[e] \n",
    "  return(sum3)\n",
    "\n",
    "print(sumScore(scores))"
   ]
  },
  {
   "cell_type": "code",
   "execution_count": 26,
   "id": "81112e3e",
   "metadata": {},
   "outputs": [
    {
     "name": "stdout",
     "output_type": "stream",
     "text": [
      "[2, 4, 10]\n"
     ]
    }
   ],
   "source": [
    "#매개변수로 두 리스트가 전달되면 두 리스트의 모든 요소에서 짝수 데이터만 가진 리스트를 리턴하는 함수를 선언하고 호출하세요. 단, 두 리스트의 데이터는 중복이 없다고 가정한다.\n",
    "#ex> 첫번째 매개변수 : [1,2,5], 두번째 매개변수 : [4, 7, 10] -> 결과 : [2,4,10]\n",
    "def getEven(list5, list6) :\n",
    "  list7 = list5 + list6\n",
    "  for i, e in enumerate(list7) :\n",
    "    if e % 2 != 0 :\n",
    "      del list7[i]\n",
    "  return list7\n",
    "\n",
    "print(getEven([1,2,5], [4, 7, 10]))\n",
    "\n"
   ]
  },
  {
   "cell_type": "code",
   "execution_count": 30,
   "id": "592db12f",
   "metadata": {},
   "outputs": [
    {
     "name": "stdout",
     "output_type": "stream",
     "text": [
      "{'apple': 5, 'banana': 6, 'orange': 6}\n"
     ]
    }
   ],
   "source": [
    "'''\n",
    "매개변수로 문자열 리스트가 전달되면 리스트의 문자열과 문자열의 길이를 딕셔너리로 리턴하는 함수를 선언하고 호출해보세요. \n",
    "len(문자열) 을 사용하면 문자열의 길이를 알수 있음\n",
    "#ex> 매개변수 : ['apple', 'banana', 'orange']\n",
    "결과 : {\n",
    "  'apple' : 5,\n",
    "  'banana' : 6,\n",
    "  'orange' : 6\n",
    "}\n",
    "'''\n",
    "def changeDic(list5) :\n",
    "  dic = {}\n",
    "  for e in list5 :\n",
    "    dic[e] = len(e)\n",
    "  return dic\n",
    "print(changeDic(['apple', 'banana', 'orange']))"
   ]
  }
 ],
 "metadata": {
  "kernelspec": {
   "display_name": "Python 3",
   "language": "python",
   "name": "python3"
  },
  "language_info": {
   "codemirror_mode": {
    "name": "ipython",
    "version": 3
   },
   "file_extension": ".py",
   "mimetype": "text/x-python",
   "name": "python",
   "nbconvert_exporter": "python",
   "pygments_lexer": "ipython3",
   "version": "3.13.7"
  }
 },
 "nbformat": 4,
 "nbformat_minor": 5
}
