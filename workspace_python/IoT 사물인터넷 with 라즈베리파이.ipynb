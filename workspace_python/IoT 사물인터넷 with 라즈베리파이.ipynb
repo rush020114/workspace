{
 "cells": [
  {
   "cell_type": "markdown",
   "id": "960b54ab",
   "metadata": {},
   "source": [
    "### IoT 사물인터넷 with 라즈베리파이"
   ]
  },
  {
   "cell_type": "markdown",
   "id": "a127f87d",
   "metadata": {},
   "source": [
    "1. 키보드로 세 정수를 입력받아, 큰 수부터 출력하시오. 입력받은 수에 중복은 없다고 가정한다."
   ]
  },
  {
   "cell_type": "code",
   "execution_count": 40,
   "id": "4e6e3ea4",
   "metadata": {},
   "outputs": [
    {
     "name": "stdout",
     "output_type": "stream",
     "text": [
      "3 2 1\n"
     ]
    }
   ],
   "source": [
    "# 세 정수를 입력받기 위한 배열\n",
    "list1 = []\n",
    "for e in range(0, 3) :\n",
    "  list1.append(int(input(f'{e + 1}번째 수를 입력해주세요.')))\n",
    "\n",
    "# 비교한 대소관계를 저장할 변수\n",
    "max1 = max(list1)\n",
    "min1 = min(list1)\n",
    "mid1 = 0\n",
    "\n",
    "# 대소 관계를 판단할 반복문\n",
    "for e in list1 :\n",
    "  if e != max1 and e != min1 :\n",
    "    mid1 = e\n",
    "print(max1, mid1, min1)"
   ]
  },
  {
   "cell_type": "markdown",
   "id": "eecebea4",
   "metadata": {},
   "source": [
    "2. 매개변수로 전달되는 수의 구구단을 출력하는 함수를 선언하시오."
   ]
  },
  {
   "cell_type": "code",
   "execution_count": 42,
   "id": "d87dac44",
   "metadata": {},
   "outputs": [
    {
     "name": "stdout",
     "output_type": "stream",
     "text": [
      "9 * 1 = 9\n",
      "9 * 2 = 18\n",
      "9 * 3 = 27\n",
      "9 * 4 = 36\n",
      "9 * 5 = 45\n",
      "9 * 6 = 54\n",
      "9 * 7 = 63\n",
      "9 * 8 = 72\n",
      "9 * 9 = 81\n"
     ]
    }
   ],
   "source": [
    "def gugudan(num1) :\n",
    "  for e in range(0, 9) :\n",
    "    print(f'{num1} * {e + 1} = {num1 * (e + 1)}')\n",
    "gugudan(9)"
   ]
  },
  {
   "cell_type": "markdown",
   "id": "77001677",
   "metadata": {},
   "source": [
    "3. 1부터 20까지의 숫자 중에서 홀수만 리스트에 저장하고 출력하는 코드를 작성하시오."
   ]
  },
  {
   "cell_type": "code",
   "execution_count": 43,
   "id": "98bf2c8b",
   "metadata": {},
   "outputs": [
    {
     "name": "stdout",
     "output_type": "stream",
     "text": [
      "[1, 3, 5, 7, 9, 11, 13, 15, 17, 19]\n"
     ]
    }
   ],
   "source": [
    "list1 = []\n",
    "for e in range(0, 20) :\n",
    "  if (e + 1) % 2 == 1 :\n",
    "    list1.append(e + 1)\n",
    "print(list1)"
   ]
  },
  {
   "cell_type": "markdown",
   "id": "ff945732",
   "metadata": {},
   "source": [
    "4. 다음 리스트에 저장된 모든 연락처의 중간 네자리 숫자의 합을 구하여 출력하시오."
   ]
  },
  {
   "cell_type": "code",
   "execution_count": 44,
   "id": "0ba0b584",
   "metadata": {},
   "outputs": [
    {
     "name": "stdout",
     "output_type": "stream",
     "text": [
      "8000\n"
     ]
    }
   ],
   "source": [
    "phoneNumbers = [\n",
    "  '010-1000-2222',\n",
    "  '010-2000-3333',\n",
    "  '010-5000-4444'\n",
    "]\n",
    "sum1 = 0\n",
    "for number in phoneNumbers :\n",
    "  sum1 += int(number[4 : 8])\n",
    "print(sum1)"
   ]
  },
  {
   "cell_type": "markdown",
   "id": "9cb6d45e",
   "metadata": {},
   "source": [
    "5. 아래 딕셔너리 데이터를 참고하여, 모든 학생의 평균 점수를 구하는 코드를 작성하시오."
   ]
  },
  {
   "cell_type": "code",
   "execution_count": 45,
   "id": "0846bd90",
   "metadata": {},
   "outputs": [
    {
     "name": "stdout",
     "output_type": "stream",
     "text": [
      "85.0\n"
     ]
    }
   ],
   "source": [
    "students = {\n",
    "  \"김철수\": 85, \n",
    "  \"이영희\": 92, \n",
    "  \"박민수\": 78\n",
    "}\n",
    "sum1 = 0\n",
    "for stu in students :\n",
    "  sum1 += students[stu]\n",
    "average = sum1 / len(students)\n",
    "print(average)"
   ]
  },
  {
   "cell_type": "markdown",
   "id": "f91bc629",
   "metadata": {},
   "source": [
    "다음 상품 정보 데이터를 참고하여 문제를 푸시오."
   ]
  },
  {
   "cell_type": "code",
   "execution_count": 46,
   "id": "5e6257af",
   "metadata": {},
   "outputs": [],
   "source": [
    "products = [\n",
    "    {\"이름\": \"노트북\", \"가격\": 50000},\n",
    "    {\"이름\": \"마우스\", \"가격\": 8000},\n",
    "    {\"이름\": \"키보드\", \"가격\": 15000},\n",
    "    {\"이름\": \"모니터\", \"가격\": 30000},\n",
    "    {\"이름\": \"USB\", \"가격\": 5000}\n",
    "]"
   ]
  },
  {
   "cell_type": "markdown",
   "id": "86bbc79d",
   "metadata": {},
   "source": [
    "6. 위 products 데이터에 키보드로 입력한 이름과 가격을 갖는 상품을 추가하는 코드를 작성하시오."
   ]
  },
  {
   "cell_type": "code",
   "execution_count": 47,
   "id": "e99f425b",
   "metadata": {},
   "outputs": [
    {
     "name": "stdout",
     "output_type": "stream",
     "text": [
      "[{'이름': '노트북', '가격': 50000}, {'이름': '마우스', '가격': 8000}, {'이름': '키보드', '가격': 15000}, {'이름': '모니터', '가격': 30000}, {'이름': 'USB', '가격': 5000}, {'이름': '본체', '가격': 10000}]\n"
     ]
    }
   ],
   "source": [
    "products.append({\n",
    "  '이름' : input('상품명을 입력해주십시오.')\n",
    "  , '가격' : int(input('가격을 입력해주십시오.'))\n",
    "})\n",
    "print(products)"
   ]
  },
  {
   "cell_type": "markdown",
   "id": "669b1e5b",
   "metadata": {},
   "source": [
    "7. 가격이 10000원 이상인 상품들만 필터링하여 새로운 리스트로 만드는 코드를 작성하시오."
   ]
  },
  {
   "cell_type": "code",
   "execution_count": 48,
   "id": "fd709e97",
   "metadata": {},
   "outputs": [
    {
     "name": "stdout",
     "output_type": "stream",
     "text": [
      "[{'이름': '노트북', '가격': 50000}, {'이름': '키보드', '가격': 15000}, {'이름': '모니터', '가격': 30000}, {'이름': '본체', '가격': 10000}]\n"
     ]
    }
   ],
   "source": [
    "newProducts = []\n",
    "for prod in products :\n",
    "  if prod['가격'] >= 10000 :\n",
    "    newProducts.append(prod)\n",
    "print(newProducts)"
   ]
  },
  {
   "cell_type": "markdown",
   "id": "72369208",
   "metadata": {},
   "source": [
    "8. 키보드로 입력한 이름을 갖는 상품을 products 데이터에서 삭제하는 코드를 작성하시오."
   ]
  },
  {
   "cell_type": "code",
   "execution_count": 49,
   "id": "9ee9a214",
   "metadata": {},
   "outputs": [
    {
     "name": "stdout",
     "output_type": "stream",
     "text": [
      "[{'이름': '노트북', '가격': 50000}, {'이름': '마우스', '가격': 8000}, {'이름': '키보드', '가격': 15000}, {'이름': '모니터', '가격': 30000}, {'이름': 'USB', '가격': 5000}]\n"
     ]
    }
   ],
   "source": [
    "delProduct = input('삭제할 상품명을 입력해주십시오.')\n",
    "for i, prod in enumerate(products) :\n",
    "  if prod['이름'] == delProduct :\n",
    "    del products[i]\n",
    "print(products)"
   ]
  }
 ],
 "metadata": {
  "kernelspec": {
   "display_name": "Python 3",
   "language": "python",
   "name": "python3"
  },
  "language_info": {
   "codemirror_mode": {
    "name": "ipython",
    "version": 3
   },
   "file_extension": ".py",
   "mimetype": "text/x-python",
   "name": "python",
   "nbconvert_exporter": "python",
   "pygments_lexer": "ipython3",
   "version": "3.13.7"
  }
 },
 "nbformat": 4,
 "nbformat_minor": 5
}
