{
 "cells": [
  {
   "cell_type": "code",
   "execution_count": 1,
   "id": "42e77203",
   "metadata": {},
   "outputs": [],
   "source": [
    "list1 = [] # 빈 리스트 생성\n",
    "list2 = [1, 2, '안녕', 5.5]\n",
    "list3 = [1, 2, [4, 5, 6]]"
   ]
  },
  {
   "cell_type": "code",
   "execution_count": 3,
   "id": "72ae16df",
   "metadata": {},
   "outputs": [
    {
     "name": "stdout",
     "output_type": "stream",
     "text": [
      "2\n",
      "[1, 2, [4, 5, 6]]\n"
     ]
    }
   ],
   "source": [
    "print(list2[1])\n",
    "print(list3)"
   ]
  },
  {
   "cell_type": "code",
   "execution_count": null,
   "id": "77ad8fcf",
   "metadata": {},
   "outputs": [
    {
     "name": "stdout",
     "output_type": "stream",
     "text": [
      "[1, 2, 3]\n",
      "[1, 4, 2, 3]\n"
     ]
    }
   ],
   "source": [
    "# 리스트에 데이터 추가\n",
    "# 1. append() 함수 사용 : 리스트의 마지막 요소에 데이터 추가\n",
    "list1 = []\n",
    "list1.append(1)\n",
    "list1.append(2)\n",
    "list1.append(3)\n",
    "print(list1)\n",
    "\n",
    "# 2. insert(삽입할 index, 데이터) : 원하는 위치에 데이터를 추가\n",
    "list1.insert(1, 4)\n",
    "print(list1)"
   ]
  },
  {
   "cell_type": "code",
   "execution_count": null,
   "id": "25be1959",
   "metadata": {},
   "outputs": [
    {
     "name": "stdout",
     "output_type": "stream",
     "text": [
      "[1, 2, 4, 5]\n"
     ]
    }
   ],
   "source": [
    "# 리스트 데이터 삭제\n",
    "list1 = [1, 2, 3, 4, 5]\n",
    "del list1[2] # list1 변수의 2번 요소 데이터를 삭제\n",
    "print(list1)\n",
    "\n",
    "# 주의사항!\n",
    "del list1 # list1 변수 자체를 제거를 제거\n",
    "# print(list1) list1 변수 자체가 지워지기 때문에 출력 시 오류"
   ]
  },
  {
   "cell_type": "code",
   "execution_count": 9,
   "id": "034f1d2d",
   "metadata": {},
   "outputs": [
    {
     "name": "stdout",
     "output_type": "stream",
     "text": [
      "[1, 5, 3]\n"
     ]
    }
   ],
   "source": [
    "# 리스트 데이터 수정\n",
    "list1 = [1, 2, 3]\n",
    "# 2를 5로 변경\n",
    "list1[1] = 5\n",
    "print(list1)"
   ]
  },
  {
   "cell_type": "code",
   "execution_count": null,
   "id": "ccf0624e",
   "metadata": {},
   "outputs": [
    {
     "name": "stdout",
     "output_type": "stream",
     "text": [
      "[2, 3, 4]\n",
      "[1, 2, 3]\n",
      "[2, 3, 4, 5]\n",
      "2\n"
     ]
    }
   ],
   "source": [
    "# 슬라이싱 : 리스트에서 특정 영역만 추출하는 문법\n",
    "# [추출 시작 index : 추출 마지막 index(포함 x)]\n",
    "list2 = [1, 2, 3, 4, 5]\n",
    "print(list2[1 : 4]) # 1번 index에서 4번 index 전까지\n",
    "print(list2[: 3]) # 시작 인덱스를 생략하면 0번째 index로 간주\n",
    "print(list2[1 :]) # 1번째부터 끝까지\n",
    "print(list2[2 : -1]) # 음수는 배열 반대부터 -1씩 그리고 왼쪽으로 이동하면서 -1씩 + 된다."
   ]
  },
  {
   "cell_type": "code",
   "execution_count": null,
   "id": "67bdb9a4",
   "metadata": {},
   "outputs": [
    {
     "name": "stdout",
     "output_type": "stream",
     "text": [
      "홍\n",
      "052-1111-2222\n",
      "052-3333-4444\n",
      "052-4444-5555\n"
     ]
    }
   ],
   "source": [
    "# 파이썬은 문자열도 리스트로 판단\n",
    "myName = '홍길동'\n",
    "print(myName[0])\n",
    "\n",
    "addrList = [\n",
    "  '스타벅스 삼산지점 052-1111-2222'\n",
    "  , '스타벅스 신정동 2호점 052-3333-4444'\n",
    "  , '스타벅스 울산남구점 052-4444-5555'\n",
    "]\n",
    "\n",
    "print(addrList[0][-13 :])\n",
    "print(addrList[1][-13 :])\n",
    "print(addrList[2][-13 :])"
   ]
  }
 ],
 "metadata": {
  "kernelspec": {
   "display_name": "Python 3",
   "language": "python",
   "name": "python3"
  },
  "language_info": {
   "codemirror_mode": {
    "name": "ipython",
    "version": 3
   },
   "file_extension": ".py",
   "mimetype": "text/x-python",
   "name": "python",
   "nbconvert_exporter": "python",
   "pygments_lexer": "ipython3",
   "version": "3.13.7"
  }
 },
 "nbformat": 4,
 "nbformat_minor": 5
}
