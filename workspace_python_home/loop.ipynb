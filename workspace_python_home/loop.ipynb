{
 "cells": [
  {
   "cell_type": "code",
   "execution_count": 2,
   "id": "bd6caed4",
   "metadata": {},
   "outputs": [
    {
     "name": "stdout",
     "output_type": "stream",
     "text": [
      "1\n",
      "1\n",
      "2\n",
      "1\n",
      "3\n",
      "1\n",
      "2\n"
     ]
    }
   ],
   "source": [
    "for e in [1, 2, 3] :\n",
    "  print(e)\n",
    "  print(1)\n",
    "print(2)"
   ]
  },
  {
   "cell_type": "code",
   "execution_count": 3,
   "id": "c6196f0d",
   "metadata": {},
   "outputs": [
    {
     "name": "stdout",
     "output_type": "stream",
     "text": [
      "1\n",
      "2\n",
      "3\n"
     ]
    }
   ],
   "source": [
    "list1 = [1, 2, 3]\n",
    "for e in list1 :\n",
    "  print(e)"
   ]
  },
  {
   "cell_type": "code",
   "execution_count": 4,
   "id": "8a9a1741",
   "metadata": {},
   "outputs": [
    {
     "name": "stdout",
     "output_type": "stream",
     "text": [
      "0\n",
      "1\n",
      "2\n",
      "3\n",
      "4\n",
      "5\n",
      "6\n",
      "7\n",
      "8\n",
      "9\n"
     ]
    }
   ],
   "source": [
    "# range는 반복 돌릴 횟수를 정할 수 있다.\n",
    "for e in range(0, 10) :\n",
    "  print(e)"
   ]
  },
  {
   "cell_type": "code",
   "execution_count": 7,
   "id": "ca21020f",
   "metadata": {},
   "outputs": [
    {
     "name": "stdout",
     "output_type": "stream",
     "text": [
      "i = 0, e = 1\n",
      "i = 1, e = 2\n",
      "i = 2, e = 3\n",
      "i = 3, e = 4\n",
      "i = 4, e = 5\n"
     ]
    }
   ],
   "source": [
    "# enumerate함수를 반복문을 돌릴 배열에 감싸면 index를 각각의 데이터에서 쓸 수 있게 된다. 순서는 꼭 지켜야 한다.\n",
    "list1 = [1, 2, 3, 4, 5]\n",
    "for i, e in enumerate(list1) :\n",
    "  print(f'i = {i}, e = {e}')"
   ]
  }
 ],
 "metadata": {
  "kernelspec": {
   "display_name": "Python 3",
   "language": "python",
   "name": "python3"
  },
  "language_info": {
   "codemirror_mode": {
    "name": "ipython",
    "version": 3
   },
   "file_extension": ".py",
   "mimetype": "text/x-python",
   "name": "python",
   "nbconvert_exporter": "python",
   "pygments_lexer": "ipython3",
   "version": "3.13.7"
  }
 },
 "nbformat": 4,
 "nbformat_minor": 5
}
