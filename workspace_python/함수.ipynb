{
 "cells": [
  {
   "cell_type": "code",
   "execution_count": null,
   "id": "89ed598d",
   "metadata": {},
   "outputs": [
    {
     "name": "stdout",
     "output_type": "stream",
     "text": [
      "1\n",
      "2\n"
     ]
    }
   ],
   "source": [
    "# 함수\n",
    "def sayHello() :\n",
    "  print(1)\n",
    "  print(2)"
   ]
  },
  {
   "cell_type": "code",
   "execution_count": null,
   "id": "cf8035e7",
   "metadata": {},
   "outputs": [],
   "source": [
    "# 호출\n",
    "sayHello()"
   ]
  },
  {
   "cell_type": "code",
   "execution_count": null,
   "id": "e9222ac8",
   "metadata": {},
   "outputs": [],
   "source": [
    "# 리턴타입, 매개변수\n",
    "def getSum(a, b) :\n",
    "  print(a + b)\n",
    "  return (a + b)"
   ]
  },
  {
   "cell_type": "code",
   "execution_count": 5,
   "id": "f068d757",
   "metadata": {},
   "outputs": [
    {
     "name": "stdout",
     "output_type": "stream",
     "text": [
      "3\n",
      "3\n"
     ]
    }
   ],
   "source": [
    "print(getSum(1, 2))"
   ]
  },
  {
   "cell_type": "code",
   "execution_count": 6,
   "id": "5233b937",
   "metadata": {},
   "outputs": [],
   "source": [
    "# 파이썬의 함수는 return 데이터를 여러개 가질 수 있음\n",
    "def getNumber() :\n",
    "  return 10, 20, 30"
   ]
  },
  {
   "cell_type": "code",
   "execution_count": 7,
   "id": "4022d1b0",
   "metadata": {},
   "outputs": [
    {
     "name": "stdout",
     "output_type": "stream",
     "text": [
      "10 20 30\n"
     ]
    }
   ],
   "source": [
    "r1, r2, r3 = getNumber()\n",
    "print(r1, r2, r3)"
   ]
  },
  {
   "cell_type": "code",
   "execution_count": 9,
   "id": "faae1019",
   "metadata": {},
   "outputs": [],
   "source": [
    "# 파이썬은 매개변수에 데이터를 전달할 때 매개변수명을 활용할 수 았다.\n",
    "def printInfo(name, age) :\n",
    "  print(f'이름은 {name}이고, 나이는 {age}')"
   ]
  },
  {
   "cell_type": "code",
   "execution_count": null,
   "id": "e6261e0a",
   "metadata": {},
   "outputs": [
    {
     "name": "stdout",
     "output_type": "stream",
     "text": [
      "이름은 kim이고, 나이는 20\n",
      "이름은 kim이고, 나이는 20\n",
      "이름은 Lee이고, 나이는 30\n"
     ]
    }
   ],
   "source": [
    "printInfo('kim', 20)\n",
    "printInfo(name='kim', age=20)\n",
    "printInfo(age=30, name='Lee')"
   ]
  }
 ],
 "metadata": {
  "kernelspec": {
   "display_name": "Python 3",
   "language": "python",
   "name": "python3"
  },
  "language_info": {
   "codemirror_mode": {
    "name": "ipython",
    "version": 3
   },
   "file_extension": ".py",
   "mimetype": "text/x-python",
   "name": "python",
   "nbconvert_exporter": "python",
   "pygments_lexer": "ipython3",
   "version": "3.13.7"
  }
 },
 "nbformat": 4,
 "nbformat_minor": 5
}
