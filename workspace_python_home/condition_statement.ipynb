{
 "cells": [
  {
   "cell_type": "code",
   "execution_count": null,
   "id": "51b7fb2f",
   "metadata": {},
   "outputs": [
    {
     "name": "stdout",
     "output_type": "stream",
     "text": [
      "정답\n"
     ]
    }
   ],
   "source": [
    "# 조건문은 괄호가 하나도 없다.\n",
    "# 대신 들여쓰기를 잘해야 한다. if문의 영역은 들여쓰기이다.\n",
    "num1 = 1\n",
    "if num1 > 0 :\n",
    "  print('정답')"
   ]
  },
  {
   "cell_type": "code",
   "execution_count": 2,
   "id": "364946f8",
   "metadata": {},
   "outputs": [
    {
     "name": "stdout",
     "output_type": "stream",
     "text": [
      "또 정답\n"
     ]
    }
   ],
   "source": [
    "# 연산자 -> 그리고 (and), 이거나 (or)\n",
    "if 1 < 3 and 5 < 7 :\n",
    "  print('또 정답')"
   ]
  },
  {
   "cell_type": "code",
   "execution_count": null,
   "id": "ad9aa4f1",
   "metadata": {},
   "outputs": [
    {
     "name": "stdout",
     "output_type": "stream",
     "text": [
      "5보다 큼\n"
     ]
    }
   ],
   "source": [
    "num2 = 10\n",
    "if num2 > 10 :\n",
    "  print('1보다 큼')\n",
    "elif num2 > 5 :\n",
    "  print('5보다 큼')\n",
    "else :\n",
    "  print('다 해당 안 됨')"
   ]
  },
  {
   "cell_type": "code",
   "execution_count": null,
   "id": "43d35183",
   "metadata": {},
   "outputs": [
    {
     "name": "stdout",
     "output_type": "stream",
     "text": [
      "짝수\n"
     ]
    }
   ],
   "source": [
    "# 출력문은 문자로 반환된다.\n",
    "# int()함수의 매개변수로 문자를 넣으면 정수로 반환된다.\n",
    "num3 = int(input('정수 또는 짝수'))\n",
    "if num3 % 2 == 0 :\n",
    "  print('짝수')\n",
    "else :\n",
    "  print('홀수')"
   ]
  }
 ],
 "metadata": {
  "kernelspec": {
   "display_name": "Python 3",
   "language": "python",
   "name": "python3"
  },
  "language_info": {
   "codemirror_mode": {
    "name": "ipython",
    "version": 3
   },
   "file_extension": ".py",
   "mimetype": "text/x-python",
   "name": "python",
   "nbconvert_exporter": "python",
   "pygments_lexer": "ipython3",
   "version": "3.13.7"
  }
 },
 "nbformat": 4,
 "nbformat_minor": 5
}
