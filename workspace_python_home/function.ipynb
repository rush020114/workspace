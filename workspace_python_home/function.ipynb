{
 "cells": [
  {
   "cell_type": "code",
   "execution_count": null,
   "id": "8a2d4827",
   "metadata": {},
   "outputs": [
    {
     "name": "stdout",
     "output_type": "stream",
     "text": [
      "hello\n"
     ]
    }
   ],
   "source": [
    "# 함수\n",
    "# def는 정의하다의 줄임말\n",
    "def sayHello() :\n",
    "  print('hello')\n",
    "# 호출 \n",
    "sayHello()"
   ]
  },
  {
   "cell_type": "code",
   "execution_count": 3,
   "id": "201a2322",
   "metadata": {},
   "outputs": [
    {
     "name": "stdout",
     "output_type": "stream",
     "text": [
      "3\n",
      "3\n"
     ]
    }
   ],
   "source": [
    "# 리턴타입, 매개변수\n",
    "def getSum(a, b) :\n",
    "  print(a + b)\n",
    "  return (a + b)\n",
    "print(getSum(1, 2))"
   ]
  },
  {
   "cell_type": "code",
   "execution_count": 7,
   "id": "c537f1a0",
   "metadata": {},
   "outputs": [
    {
     "name": "stdout",
     "output_type": "stream",
     "text": [
      "(10, 20, 30)\n",
      "10 20 30\n"
     ]
    }
   ],
   "source": [
    "# 파이썬은 리턴타입을 여러개 가질 수 있다.\n",
    "def getNumber() :\n",
    "  return 10, 20, 30\n",
    "print(getNumber())\n",
    "r1, r2, r3 = getNumber()\n",
    "print(r1, r2, r3)"
   ]
  },
  {
   "cell_type": "code",
   "execution_count": 10,
   "id": "bad3e19d",
   "metadata": {},
   "outputs": [
    {
     "name": "stdout",
     "output_type": "stream",
     "text": [
      "이름은 kim이고, 나이는 20\n",
      "이름은 kim이고, 나이는 20\n",
      "이름은 lee이고, 나이는 30\n"
     ]
    }
   ],
   "source": [
    "# 파이썬은 매개변수를 활용할 수 있다.\n",
    "# ex) 출력문의 end=\n",
    "def printInfo(name, age) :\n",
    " print(f'이름은 {name}이고, 나이는 {age}')\n",
    "\n",
    "printInfo('kim', 20)\n",
    "printInfo(name='kim', age=20)\n",
    "printInfo(age=30, name='lee')"
   ]
  },
  {
   "cell_type": "code",
   "execution_count": null,
   "id": "5b66671e",
   "metadata": {},
   "outputs": [],
   "source": []
  }
 ],
 "metadata": {
  "kernelspec": {
   "display_name": "Python 3",
   "language": "python",
   "name": "python3"
  },
  "language_info": {
   "codemirror_mode": {
    "name": "ipython",
    "version": 3
   },
   "file_extension": ".py",
   "mimetype": "text/x-python",
   "name": "python",
   "nbconvert_exporter": "python",
   "pygments_lexer": "ipython3",
   "version": "3.13.7"
  }
 },
 "nbformat": 4,
 "nbformat_minor": 5
}
