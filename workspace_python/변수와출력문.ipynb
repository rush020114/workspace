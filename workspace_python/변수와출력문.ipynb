{
 "cells": [
  {
   "cell_type": "markdown",
   "id": "57beca36",
   "metadata": {},
   "source": [
    "### 출력문\n",
    "파이썬에서 출력문은 print() 명령어를 사용합니다."
   ]
  },
  {
   "cell_type": "code",
   "execution_count": 1,
   "id": "cead5678",
   "metadata": {},
   "outputs": [],
   "source": [
    "# 이것은 주석입니다."
   ]
  },
  {
   "cell_type": "code",
   "execution_count": null,
   "id": "1c9cf52b",
   "metadata": {},
   "outputs": [
    {
     "name": "stdout",
     "output_type": "stream",
     "text": [
      "10\n",
      "문자는 홀따옴표에 감싼다.\n",
      "문자는 쌍따옴표도 가능하다.\n"
     ]
    }
   ],
   "source": [
    "# 파이썬 명령어는 마지막에 세미클론 붙이지 않음\n",
    "print(10)\n",
    "print('문자는 홀따옴표에 감싼다.')\n",
    "print(\"문자는 쌍따옴표도 가능하다.\")"
   ]
  },
  {
   "cell_type": "markdown",
   "id": "fa5e61ac",
   "metadata": {},
   "source": []
  },
  {
   "cell_type": "code",
   "execution_count": 11,
   "id": "72d9dba5",
   "metadata": {},
   "outputs": [
    {
     "name": "stdout",
     "output_type": "stream",
     "text": [
      "15\n",
      "3.3333333333333335\n",
      "3\n",
      "1\n",
      "javapython\n"
     ]
    }
   ],
   "source": [
    "# 연산 결과의 출력\n",
    "print(10 + 5)\n",
    "print(10 / 3) # 연산 결과가 실수이면 실수값을 리턴\n",
    "print(10 // 3) # 나눗셈의 몫\n",
    "print(10 % 3) # 나눗셈의 나머지\n",
    "print('java' + 'python')\n",
    "# print('python' + 5) 파이썬의 숫자와 문자의 덧셈이 불가"
   ]
  },
  {
   "cell_type": "code",
   "execution_count": 19,
   "id": "271882d1",
   "metadata": {},
   "outputs": [
    {
     "name": "stdout",
     "output_type": "stream",
     "text": [
      "10 hello 10.5\n",
      "hi\n",
      "hihi."
     ]
    }
   ],
   "source": [
    "# print() 활용\n",
    "print(10, 'hello', 10.5)\n",
    "\n",
    "# print() 함수는 'end' 매개변수로 출력 후 실행 코드를 작성할 수 있음.\n",
    "print('hi', end='\\n')\n",
    "print('hi', end='')\n",
    "print('hi', end='.')"
   ]
  },
  {
   "cell_type": "markdown",
   "id": "3692f358",
   "metadata": {},
   "source": [
    "### 변수\n",
    "python은 javascript와 마찬가지로 내부적으로만 자료형이 존재"
   ]
  },
  {
   "cell_type": "code",
   "execution_count": 20,
   "id": "0e1d379f",
   "metadata": {},
   "outputs": [
    {
     "name": "stdout",
     "output_type": "stream",
     "text": [
      "10\n"
     ]
    }
   ],
   "source": [
    "# 변수의 선언 및 초기화\n",
    "num = 10\n",
    "print(num)"
   ]
  },
  {
   "cell_type": "code",
   "execution_count": 23,
   "id": "cb54763e",
   "metadata": {},
   "outputs": [
    {
     "name": "stdout",
     "output_type": "stream",
     "text": [
      "이름은 홍길동이고, 나이는 20입니다.\n"
     ]
    }
   ],
   "source": [
    "myName = '홍길동'\n",
    "myAge = 20\n",
    "\n",
    "# 이름은 홍길동이고, 나이는 20\n",
    "print(f'이름은 {myName}이고, 나이는 {myAge}입니다.')"
   ]
  },
  {
   "cell_type": "markdown",
   "id": "9eadf398",
   "metadata": {},
   "source": [
    "### 키보드 입력"
   ]
  },
  {
   "cell_type": "code",
   "execution_count": 27,
   "id": "167e5fa7",
   "metadata": {},
   "outputs": [
    {
     "name": "stdout",
     "output_type": "stream",
     "text": [
      "1\n",
      "홍\n"
     ]
    }
   ],
   "source": [
    "score =input('정수를 입력하세요')\n",
    "print(score)\n",
    "\n",
    "name2 =input('이름을 입력하세요')\n",
    "print(name2)"
   ]
  }
 ],
 "metadata": {
  "kernelspec": {
   "display_name": "Python 3",
   "language": "python",
   "name": "python3"
  },
  "language_info": {
   "codemirror_mode": {
    "name": "ipython",
    "version": 3
   },
   "file_extension": ".py",
   "mimetype": "text/x-python",
   "name": "python",
   "nbconvert_exporter": "python",
   "pygments_lexer": "ipython3",
   "version": "3.13.7"
  }
 },
 "nbformat": 4,
 "nbformat_minor": 5
}
