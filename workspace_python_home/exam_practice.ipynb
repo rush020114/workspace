{
 "cells": [
  {
   "cell_type": "code",
   "execution_count": 3,
   "id": "76df24e8",
   "metadata": {},
   "outputs": [
    {
     "name": "stdout",
     "output_type": "stream",
     "text": [
      "1\n"
     ]
    }
   ],
   "source": [
    "num1 = int(input('정수 입력'))\n",
    "if num1 == 0 :\n",
    "  print('0입니다')\n",
    "elif num1 % 2 == 0 :\n",
    "  print('1')\n",
    "else :\n",
    "  print('2')"
   ]
  },
  {
   "cell_type": "code",
   "execution_count": 4,
   "id": "e0ff4503",
   "metadata": {},
   "outputs": [
    {
     "name": "stdout",
     "output_type": "stream",
     "text": [
      "3 * 1 = 3\n",
      "3 * 2 = 6\n",
      "3 * 3 = 9\n",
      "3 * 4 = 12\n",
      "3 * 5 = 15\n",
      "3 * 6 = 18\n",
      "3 * 7 = 21\n",
      "3 * 8 = 24\n",
      "3 * 9 = 27\n"
     ]
    }
   ],
   "source": [
    "num2 = int(input('단 입력'))\n",
    "for e in range(0, 9) :\n",
    "  print(f'{num2} * {e + 1} = {num2 * (e + 1)}')"
   ]
  },
  {
   "cell_type": "code",
   "execution_count": 6,
   "id": "2b7641a9",
   "metadata": {},
   "outputs": [
    {
     "name": "stdout",
     "output_type": "stream",
     "text": [
      "21\n"
     ]
    }
   ],
   "source": [
    "list1 = [1, 2, 3]\n",
    "list2 = [4, 5, 6]\n",
    "print(sum(list1 + list2))"
   ]
  },
  {
   "cell_type": "code",
   "execution_count": 9,
   "id": "c6e200f2",
   "metadata": {},
   "outputs": [
    {
     "name": "stdout",
     "output_type": "stream",
     "text": [
      "[2, 10, 20]\n"
     ]
    }
   ],
   "source": [
    "list1 = []\n",
    "for e in range(0, 3) :\n",
    "  list1.append(int(input(f'리스트 {e}번째 요소 입력')) * 2)\n",
    "print(list1)"
   ]
  },
  {
   "cell_type": "code",
   "execution_count": 10,
   "id": "ec6eb789",
   "metadata": {},
   "outputs": [
    {
     "name": "stdout",
     "output_type": "stream",
     "text": [
      "3\n"
     ]
    }
   ],
   "source": [
    "data = ['brother', 'mother', 'sister']\n",
    "cnt = 0\n",
    "for word in data :\n",
    "  for e in word :\n",
    "    if e == 't' :\n",
    "      cnt += 1\n",
    "print(cnt)"
   ]
  },
  {
   "cell_type": "code",
   "execution_count": 15,
   "id": "f3689eb0",
   "metadata": {},
   "outputs": [
    {
     "name": "stdout",
     "output_type": "stream",
     "text": [
      "{'name': 'hong', 'korScore': 80, 'mathScore': 90, 'totalScore': 170}\n"
     ]
    }
   ],
   "source": [
    "student = {\n",
    "  'name' : 'hong',\n",
    "  'korScore' : 0,\n",
    "  'mathScore' : 0,\n",
    "}\n",
    "student['korScore'] = int(input('국어점수'))\n",
    "student['mathScore'] = int(input('수학점수'))\n",
    "student['totalScore'] = student['korScore'] + student['mathScore']\n",
    "print(student)"
   ]
  },
  {
   "cell_type": "code",
   "execution_count": 17,
   "id": "81ec51c7",
   "metadata": {},
   "outputs": [
    {
     "name": "stdout",
     "output_type": "stream",
     "text": [
      "256\n"
     ]
    }
   ],
   "source": [
    "scores = {\n",
    "  'korScore' : 90,\n",
    "  'engScore' : 80,\n",
    "  'mathScore' : 86\n",
    "}\n",
    "\n",
    "def getTotalScore(dic) :\n",
    "  sum1 = 0\n",
    "  for e in dic :\n",
    "    sum1 += dic[e]\n",
    "  return sum1\n",
    "print(getTotalScore(scores))"
   ]
  },
  {
   "cell_type": "code",
   "execution_count": 18,
   "id": "34081b06",
   "metadata": {},
   "outputs": [
    {
     "name": "stdout",
     "output_type": "stream",
     "text": [
      "[2, 4, 10]\n"
     ]
    }
   ],
   "source": [
    "def getEvenList(list1, list2) :\n",
    "  newList = list1 + list2\n",
    "  for i, e in enumerate(newList) :\n",
    "    if e % 2 != 0 :\n",
    "      del newList[i]\n",
    "  return newList\n",
    "print(getEvenList([1, 2, 5], [4, 7, 10]))"
   ]
  },
  {
   "cell_type": "code",
   "execution_count": 19,
   "id": "3ae77d91",
   "metadata": {},
   "outputs": [
    {
     "name": "stdout",
     "output_type": "stream",
     "text": [
      "{'apple': 5, 'banana': 6, 'orange': 6}\n"
     ]
    }
   ],
   "source": [
    "def getDicFromList(list1) :\n",
    "  resultDic = {}\n",
    "  for e in list1 :\n",
    "    resultDic[e] = len(e)\n",
    "  return resultDic\n",
    "print(getDicFromList(['apple', 'banana', 'orange']))"
   ]
  }
 ],
 "metadata": {
  "kernelspec": {
   "display_name": "Python 3",
   "language": "python",
   "name": "python3"
  },
  "language_info": {
   "codemirror_mode": {
    "name": "ipython",
    "version": 3
   },
   "file_extension": ".py",
   "mimetype": "text/x-python",
   "name": "python",
   "nbconvert_exporter": "python",
   "pygments_lexer": "ipython3",
   "version": "3.13.7"
  }
 },
 "nbformat": 4,
 "nbformat_minor": 5
}
