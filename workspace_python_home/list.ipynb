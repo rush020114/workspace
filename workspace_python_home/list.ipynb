{
 "cells": [
  {
   "cell_type": "code",
   "execution_count": 73,
   "id": "4ac6c48e",
   "metadata": {},
   "outputs": [],
   "source": [
    "list1 = [] # 빈 리스트(파이썬에서 리스트는 배열)\n",
    "list2 = [1, 2, '안녕', 5.5]\n",
    "list3 = [1, 2, [4, 5, 6]]"
   ]
  },
  {
   "cell_type": "code",
   "execution_count": 34,
   "id": "7010831f",
   "metadata": {},
   "outputs": [
    {
     "name": "stdout",
     "output_type": "stream",
     "text": [
      "2\n",
      "[1, 2, [4, 5, 6]]\n"
     ]
    }
   ],
   "source": [
    "print(list2[1])\n",
    "print(list3)"
   ]
  },
  {
   "cell_type": "code",
   "execution_count": 74,
   "id": "69e2ab1f",
   "metadata": {},
   "outputs": [
    {
     "name": "stdout",
     "output_type": "stream",
     "text": [
      "[1, 2, 3]\n",
      "[1, 4, 2, 3]\n"
     ]
    }
   ],
   "source": [
    "# 리스트에 데이터 추가 append()\n",
    "list1.append(1)\n",
    "list1.append(2)\n",
    "list1.append(3)\n",
    "print(list1)\n",
    "\n",
    "# 리스트에 데이터 삽입 insert()\n",
    "list1.insert(1, 4)\n",
    "print(list1)"
   ]
  },
  {
   "cell_type": "code",
   "execution_count": 71,
   "id": "8fd40e0f",
   "metadata": {},
   "outputs": [
    {
     "name": "stdout",
     "output_type": "stream",
     "text": [
      "[1, 2, 3]\n"
     ]
    }
   ],
   "source": [
    "# 리스트 데이터 삭제\n",
    "del list1[1]\n",
    "print(list1)\n",
    "\n",
    "# 주의 사항!\n",
    "del list1 # list1 변수 자체를 삭제"
   ]
  },
  {
   "cell_type": "code",
   "execution_count": 75,
   "id": "61b4caca",
   "metadata": {},
   "outputs": [
    {
     "name": "stdout",
     "output_type": "stream",
     "text": [
      "[1, 5, 3]\n"
     ]
    }
   ],
   "source": [
    "# 리스트 데이터 수정\n",
    "list1 = [1, 2, 3]\n",
    "list1[1] = 5\n",
    "print(list1)"
   ]
  },
  {
   "cell_type": "code",
   "execution_count": null,
   "id": "1742ebf3",
   "metadata": {},
   "outputs": [
    {
     "name": "stdout",
     "output_type": "stream",
     "text": [
      "[2, 3, 4]\n",
      "[1, 2, 3, 4, 5]\n",
      "[1, 2, 3, 4, 5]\n",
      "[1, 2, 3]\n",
      "[2, 3, 4, 5]\n",
      "[2, 3, 4]\n"
     ]
    }
   ],
   "source": [
    "# 슬라이싱 : 리스트에서 특정 영역을 추출\n",
    "list2 = [1, 2, 3, 4, 5]\n",
    "print(list2[1 : 4])\n",
    "print(list2[:])\n",
    "print(list2)\n",
    "print(list2[: 3])\n",
    "print(list2[1:])\n",
    "print(list2[1 : -1]) # 파이썬은 음수 인덱스도 제공 오른쪽에서 -1로 시작해 왼쪽으로 -1씩 + 됨"
   ]
  },
  {
   "cell_type": "code",
   "execution_count": 85,
   "id": "e886d39d",
   "metadata": {},
   "outputs": [
    {
     "name": "stdout",
     "output_type": "stream",
     "text": [
      "홍\n",
      "010-1111-1111\n",
      "010-2222-1111\n",
      "010-3333-1111\n"
     ]
    }
   ],
   "source": [
    "# 파이썬은 문자열도 리스트로 판단\n",
    "myName = '홍길동'\n",
    "print(myName[0])\n",
    "\n",
    "addrList = [\n",
    "  '삼산 010-1111-1111'\n",
    "  , '신정 010-2222-1111'\n",
    "  , '야음 010-3333-1111'\n",
    "]\n",
    "\n",
    "for e in addrList :\n",
    "  print(e[-13 :])"
   ]
  }
 ],
 "metadata": {
  "kernelspec": {
   "display_name": "Python 3",
   "language": "python",
   "name": "python3"
  },
  "language_info": {
   "codemirror_mode": {
    "name": "ipython",
    "version": 3
   },
   "file_extension": ".py",
   "mimetype": "text/x-python",
   "name": "python",
   "nbconvert_exporter": "python",
   "pygments_lexer": "ipython3",
   "version": "3.13.7"
  }
 },
 "nbformat": 4,
 "nbformat_minor": 5
}
